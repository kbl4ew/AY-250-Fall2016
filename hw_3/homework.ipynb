{
 "cells": [
  {
   "cell_type": "markdown",
   "metadata": {},
   "source": [
    "# Interaction with the World Homework (#3)\n",
    "Python Computing for Data Science (c) J Bloom, UC Berkeley, 2016"
   ]
  },
  {
   "cell_type": "markdown",
   "metadata": {},
   "source": [
    "# 1) Monty: The Python Siri\n",
    "\n",
    "Let's make a Siri-like program with the following properties:\n",
    "   - record your voice command\n",
    "   - use a webservice to parse that sound file into text\n",
    "   - based on what the text, take three different types of actions:\n",
    "       - send an email to yourself\n",
    "       - do some math\n",
    "       - tell a joke\n",
    "\n",
    "So for example, if you say \"Monty: email me with subject hello and body goodbye\", it will email you with the appropriate subject and body. If you say \"Monty: tell me a joke\" then it will go to the web and find a joke and print it for you. If you say, \"Monty: calculate two times three\" it should response with printing the number 6.\n",
    "\n",
    "Hint: you can use speed-to-text apps like Houndify to return the text (but not do the actions). You'll need to sign up for a free API and then follow documentation instructions for using the service within Python. "
   ]
  },
  {
   "cell_type": "code",
   "execution_count": 135,
   "metadata": {
    "collapsed": true
   },
   "outputs": [],
   "source": [
    "import pyaudio\n",
    "import seaborn"
   ]
  },
  {
   "cell_type": "code",
   "execution_count": 139,
   "metadata": {
    "collapsed": false
   },
   "outputs": [
    {
     "name": "stdout",
     "output_type": "stream",
     "text": [
      "README.md            hw3_sound_files.zip  \u001b[31msample_wave.py\u001b[m\u001b[m\r\n",
      "\u001b[34mThinkDSP\u001b[m\u001b[m             new_file.ogg         scipy2015_demo.ipynb\r\n",
      "\u001b[34m__pycache__\u001b[m\u001b[m          \u001b[34mpySHSpeex\u001b[m\u001b[m            sound.py\r\n",
      "homework.ipynb       \u001b[31msample_stdin.py\u001b[m\u001b[m      \u001b[34msound_files\u001b[m\u001b[m\r\n",
      "houndify.py          \u001b[31msample_text.py\u001b[m\u001b[m       \u001b[34mtest_audio\u001b[m\u001b[m\r\n"
     ]
    }
   ],
   "source": [
    "!ls"
   ]
  },
  {
   "cell_type": "code",
   "execution_count": 276,
   "metadata": {
    "collapsed": false
   },
   "outputs": [
    {
     "name": "stdout",
     "output_type": "stream",
     "text": [
      "* done recording\n"
     ]
    }
   ],
   "source": [
    "chunk = 1024\n",
    "FORMAT = pyaudio.paInt16\n",
    "CHANNELS = 1\n",
    "RATE = 16000\n",
    "RECORD_SECONDS = 5\n",
    "WAVE_OUTPUT_FILENAME = \"input-siri3.wav\"\n",
    "p = pyaudio.PyAudio()\n",
    "stream = p.open(format = FORMAT,\n",
    "    channels = CHANNELS,\n",
    "    rate = RATE,\n",
    "    input = True,\n",
    "    frames_per_buffer = chunk)\n",
    "all = []\n",
    "for i in range(0, int(RATE / chunk * RECORD_SECONDS)):\n",
    "    data = stream.read(chunk)\n",
    "    all.append(data)\n",
    "print(\"* done recording\")\n",
    "stream.close()\n",
    "p.terminate()"
   ]
  },
  {
   "cell_type": "code",
   "execution_count": 278,
   "metadata": {
    "collapsed": false
   },
   "outputs": [
    {
     "data": {
      "text/plain": [
       "2"
      ]
     },
     "execution_count": 278,
     "metadata": {},
     "output_type": "execute_result"
    }
   ],
   "source": [
    "audio = wave.open(\"input-siri3.wav\")\n",
    "audio.getsampwidth()"
   ]
  },
  {
   "cell_type": "code",
   "execution_count": 279,
   "metadata": {
    "collapsed": false
   },
   "outputs": [
    {
     "data": {
      "text/plain": [
       "16000"
      ]
     },
     "execution_count": 279,
     "metadata": {},
     "output_type": "execute_result"
    }
   ],
   "source": [
    "audio.getframerate()"
   ]
  },
  {
   "cell_type": "code",
   "execution_count": 265,
   "metadata": {
    "collapsed": false
   },
   "outputs": [
    {
     "data": {
      "text/plain": [
       "2"
      ]
     },
     "execution_count": 265,
     "metadata": {},
     "output_type": "execute_result"
    }
   ],
   "source": [
    "p.get_sample_size(FORMAT)"
   ]
  },
  {
   "cell_type": "code",
   "execution_count": 277,
   "metadata": {
    "collapsed": false
   },
   "outputs": [],
   "source": [
    "import wave\n",
    "data = b\"\".join(all)\n",
    "wf = wave.open(WAVE_OUTPUT_FILENAME, \"wb\")\n",
    "wf.setnchannels(CHANNELS)\n",
    "wf.setsampwidth(p.get_sample_size(FORMAT))\n",
    "wf.setframerate(RATE)\n",
    "wf.writeframes(data)\n",
    "wf.close()"
   ]
  },
  {
   "cell_type": "code",
   "execution_count": 267,
   "metadata": {
    "collapsed": false
   },
   "outputs": [
    {
     "data": {
      "text/plain": [
       "<wave.Wave_write at 0x12a54b0b8>"
      ]
     },
     "execution_count": 267,
     "metadata": {},
     "output_type": "execute_result"
    }
   ],
   "source": [
    "wf"
   ]
  },
  {
   "cell_type": "code",
   "execution_count": 269,
   "metadata": {
    "collapsed": true
   },
   "outputs": [],
   "source": [
    "!open input-siri2.wav"
   ]
  },
  {
   "cell_type": "code",
   "execution_count": 140,
   "metadata": {
    "collapsed": true
   },
   "outputs": [],
   "source": [
    "import houndify"
   ]
  },
  {
   "cell_type": "code",
   "execution_count": 159,
   "metadata": {
    "collapsed": false
   },
   "outputs": [
    {
     "name": "stdout",
     "output_type": "stream",
     "text": [
      "README.md            input-siri.wav       \u001b[31msample_text.py\u001b[m\u001b[m\r\n",
      "\u001b[34mThinkDSP\u001b[m\u001b[m             klikey               \u001b[31msample_wave.py\u001b[m\u001b[m\r\n",
      "\u001b[34m__pycache__\u001b[m\u001b[m          klikey.py            scipy2015_demo.ipynb\r\n",
      "homework.ipynb       new_file.ogg         sound.py\r\n",
      "houndify.py          \u001b[34mpySHSpeex\u001b[m\u001b[m            \u001b[34msound_files\u001b[m\u001b[m\r\n",
      "hw3_sound_files.zip  \u001b[31msample_stdin.py\u001b[m\u001b[m      \u001b[34mtest_audio\u001b[m\u001b[m\r\n"
     ]
    }
   ],
   "source": [
    "!ls"
   ]
  },
  {
   "cell_type": "code",
   "execution_count": 145,
   "metadata": {
    "collapsed": false
   },
   "outputs": [],
   "source": [
    "import klikey"
   ]
  },
  {
   "cell_type": "code",
   "execution_count": 147,
   "metadata": {
    "collapsed": false
   },
   "outputs": [
    {
     "data": {
      "text/plain": [
       "'otFb2p_hQKvEQkHSTXJurQ=='"
      ]
     },
     "execution_count": 147,
     "metadata": {},
     "output_type": "execute_result"
    }
   ],
   "source": []
  },
  {
   "cell_type": "code",
   "execution_count": 150,
   "metadata": {
    "collapsed": true
   },
   "outputs": [],
   "source": [
    "userId = \"test_user\"\n",
    "client = houndify.StreamingHoundClient(klikey.clientId, klikey.clientKey, userId, sampleRate=8000)"
   ]
  },
  {
   "cell_type": "code",
   "execution_count": 149,
   "metadata": {
    "collapsed": false
   },
   "outputs": [],
   "source": [
    "class MyListener(houndify.HoundListener):\n",
    "  def onPartialTranscript(self, transcript):\n",
    "    print(\"Partial transcript: \" + transcript)\n",
    "  def onFinalResponse(self, response):\n",
    "    print(\"Final response: \" + str(response))\n",
    "  def onError(self, err):\n",
    "    print(\"ERROR\")\n"
   ]
  },
  {
   "cell_type": "code",
   "execution_count": 151,
   "metadata": {
    "collapsed": false
   },
   "outputs": [
    {
     "ename": "NameError",
     "evalue": "name 'samples' is not defined",
     "output_type": "error",
     "traceback": [
      "\u001b[0;31m---------------------------------------------------------------------------\u001b[0m",
      "\u001b[0;31mNameError\u001b[0m                                 Traceback (most recent call last)",
      "\u001b[0;32m<ipython-input-151-62a21168a104>\u001b[0m in \u001b[0;36m<module>\u001b[0;34m()\u001b[0m\n\u001b[1;32m      1\u001b[0m \u001b[0mclient\u001b[0m\u001b[0;34m.\u001b[0m\u001b[0mstart\u001b[0m\u001b[0;34m(\u001b[0m\u001b[0mMyListener\u001b[0m\u001b[0;34m(\u001b[0m\u001b[0;34m)\u001b[0m\u001b[0;34m)\u001b[0m\u001b[0;34m\u001b[0m\u001b[0m\n\u001b[1;32m      2\u001b[0m \u001b[0;31m#samples is the list of mono 16-bit little-endian PCM samples\u001b[0m\u001b[0;34m\u001b[0m\u001b[0;34m\u001b[0m\u001b[0m\n\u001b[0;32m----> 3\u001b[0;31m \u001b[0mclient\u001b[0m\u001b[0;34m.\u001b[0m\u001b[0mfill\u001b[0m\u001b[0;34m(\u001b[0m\u001b[0msamples\u001b[0m\u001b[0;34m)\u001b[0m\u001b[0;34m\u001b[0m\u001b[0m\n\u001b[0m\u001b[1;32m      4\u001b[0m \u001b[0mclient\u001b[0m\u001b[0;34m.\u001b[0m\u001b[0mfinish\u001b[0m\u001b[0;34m(\u001b[0m\u001b[0;34m)\u001b[0m\u001b[0;34m\u001b[0m\u001b[0m\n",
      "\u001b[0;31mNameError\u001b[0m: name 'samples' is not defined"
     ]
    },
    {
     "name": "stdout",
     "output_type": "stream",
     "text": [
      "Final response: {'ErrorMessage': 'Could not create speech handler because audio is not supported.', 'FormatVersion': '1.0', 'BuildInfo': {'User': 'knightly', 'Kind': 'Low Fat', 'Machine': 's10766724502414.pnp.melodis.com', 'BuildNumber': '3402', 'Date': 'Thu Sep 15 10:25:57 PDT 2016', 'SVNRevision': '30999', 'Variant': 'release', 'SVNBranch': 'dev_multi_machine'}, 'DomainUsage': [], 'ServerGeneratedId': 'f08ea9a6-2920-496c-af61-42fdb8dc5053', 'Format': 'SoundHoundVoiceSearchResult', 'Status': 'Error'}\n"
     ]
    }
   ],
   "source": [
    "samples = \n",
    "client.start(MyListener())\n",
    "#samples is the list of mono 16-bit little-endian PCM samples\n",
    "client.fill(samples)\n",
    "client.finish()\n"
   ]
  },
  {
   "cell_type": "code",
   "execution_count": 137,
   "metadata": {
    "collapsed": true
   },
   "outputs": [],
   "source": [
    "chunk = 1024\n",
    "FORMAT = pyaudio.paInt32\n",
    "CHANNELS = 1\n",
    "RATE = 44100\n",
    "RECORD_SECONDS = 5"
   ]
  },
  {
   "cell_type": "code",
   "execution_count": 138,
   "metadata": {
    "collapsed": false
   },
   "outputs": [
    {
     "data": {
      "text/plain": [
       "215"
      ]
     },
     "execution_count": 138,
     "metadata": {},
     "output_type": "execute_result"
    }
   ],
   "source": [
    "int(RATE / chunk * RECORD_SECONDS)"
   ]
  },
  {
   "cell_type": "code",
   "execution_count": 158,
   "metadata": {
    "collapsed": false
   },
   "outputs": [
    {
     "name": "stdout",
     "output_type": "stream",
     "text": [
      "============== test_audio/whattimeisitindenver.wav ===================\n",
      "Partial transcript: \n",
      "Partial transcript: \n",
      "Partial transcript: \n",
      "Partial transcript: \n",
      "Partial transcript: \n",
      "Partial transcript: what\n",
      "Partial transcript: what time\n",
      "Partial transcript: what time\n",
      "Partial transcript: what time is\n",
      "Partial transcript: what time is it\n",
      "Partial transcript: what time is it\n",
      "Partial transcript: what time is it in\n",
      "Partial transcript: what time is it and\n",
      "Partial transcript: what time is it in then\n",
      "Partial transcript: what time is it in denver\n",
      "Partial transcript: what time is it in denver\n",
      "Partial transcript: what time is it in denver\n",
      "Partial transcript: what time is it in denver\n",
      "Partial transcript: what time is it in denver\n",
      "Partial transcript: what time is it in denver\n",
      "Partial transcript: what time is it in denver\n",
      "Partial transcript: what time is it in denver\n",
      "Partial transcript: what time is it in denver\n",
      "Partial transcript: what time is it in denver\n",
      "Partial transcript: what time is it in denver\n",
      "Final response: {'NumToReturn': 1, 'AudioLength': 2.230000019073486, 'Disambiguation': {'ChoiceData': [{'Transcription': 'what time is it in denver', 'FixedTranscription': 'what time is it in denver', 'ConfidenceScore': 1}], 'NumToShow': 1}, 'RealSpeechTime': 2.542, 'DomainUsage': [{'CreditsUsed': 0, 'Domain': 'Speech To Text Only', 'DomainUniqueID': '3224afd8-821b-4e3e-b206-d92d160048cb'}], 'FormatVersion': '1.0', 'Format': 'SoundHoundVoiceSearchResult', 'RealTime': 2.546, 'BuildInfo': {'Machine': 's10766724502414.pnp.melodis.com', 'Kind': 'Low Fat', 'BuildNumber': '3402', 'SVNBranch': 'dev_multi_machine', 'Variant': 'release', 'SVNRevision': '30999', 'User': 'knightly', 'Date': 'Thu Sep 15 10:25:57 PDT 2016'}, 'Status': 'OK', 'ServerGeneratedId': 'b3840d00-eaf5-4dbf-8b15-4bed74e37856', 'AllResults': [{'SpokenResponseLong': 'what time is it in denver', 'SpokenResponse': 'what time is it in denver', 'FormattedTranscription': 'What time is it in denver', 'CommandKind': 'SpeechToTextOnlyCommand', 'ViewType': ['Native', 'None'], 'NativeData': {'RawTranscription': 'what time is it in denver', 'FormattedTranscription': 'What time is it in denver'}, 'AutoListen': False, 'RawTranscription': 'what time is it in denver', 'WrittenResponse': 'What time is it in denver', 'WrittenResponseLong': 'What time is it in denver'}], 'ResultsAreFinal': [True]}\n"
     ]
    }
   ],
   "source": [
    "!./sample_wave.py $klikey.clientId $klikey.clientKey test_audio/whattimeisitindenver.wav "
   ]
  },
  {
   "cell_type": "code",
   "execution_count": 274,
   "metadata": {
    "collapsed": false
   },
   "outputs": [
    {
     "data": {
      "text/plain": [
       "2"
      ]
     },
     "execution_count": 274,
     "metadata": {},
     "output_type": "execute_result"
    }
   ],
   "source": [
    "\n",
    "audio = wave.open(\"input-siri2.wav\")\n",
    "audio.getsampwidth()"
   ]
  },
  {
   "cell_type": "code",
   "execution_count": 249,
   "metadata": {
    "collapsed": true
   },
   "outputs": [],
   "source": [
    "import wavio"
   ]
  },
  {
   "cell_type": "code",
   "execution_count": 254,
   "metadata": {
    "collapsed": false
   },
   "outputs": [
    {
     "data": {
      "text/plain": [
       "44100"
      ]
     },
     "execution_count": 254,
     "metadata": {},
     "output_type": "execute_result"
    }
   ],
   "source": [
    "rate"
   ]
  },
  {
   "cell_type": "code",
   "execution_count": 256,
   "metadata": {
    "collapsed": false
   },
   "outputs": [
    {
     "ename": "AttributeError",
     "evalue": "'Wave_read' object has no attribute 'min'",
     "output_type": "error",
     "traceback": [
      "\u001b[0;31m---------------------------------------------------------------------------\u001b[0m",
      "\u001b[0;31mAttributeError\u001b[0m                            Traceback (most recent call last)",
      "\u001b[0;32m<ipython-input-256-2bb8f220d19d>\u001b[0m in \u001b[0;36m<module>\u001b[0;34m()\u001b[0m\n\u001b[0;32m----> 1\u001b[0;31m \u001b[0mwavio\u001b[0m\u001b[0;34m.\u001b[0m\u001b[0mwrite\u001b[0m\u001b[0;34m(\u001b[0m\u001b[0;34m\"input-siri2.wav\"\u001b[0m\u001b[0;34m,\u001b[0m \u001b[0maudio\u001b[0m\u001b[0;34m,\u001b[0m \u001b[0mrate\u001b[0m\u001b[0;34m,\u001b[0m \u001b[0msampwidth\u001b[0m\u001b[0;34m=\u001b[0m\u001b[0;36m2\u001b[0m\u001b[0;34m)\u001b[0m\u001b[0;34m\u001b[0m\u001b[0m\n\u001b[0m",
      "\u001b[0;32m/Users/kevinli/anaconda/lib/python3.5/site-packages/wavio.py\u001b[0m in \u001b[0;36mwrite\u001b[0;34m(file, data, rate, scale, sampwidth)\u001b[0m\n\u001b[1;32m    350\u001b[0m     \u001b[0;32melse\u001b[0m\u001b[0;34m:\u001b[0m\u001b[0;34m\u001b[0m\u001b[0m\n\u001b[1;32m    351\u001b[0m         \u001b[0;32mif\u001b[0m \u001b[0mscale\u001b[0m \u001b[0;32mis\u001b[0m \u001b[0;32mNone\u001b[0m\u001b[0;34m:\u001b[0m\u001b[0;34m\u001b[0m\u001b[0m\n\u001b[0;32m--> 352\u001b[0;31m             \u001b[0mvmin\u001b[0m \u001b[0;34m=\u001b[0m \u001b[0mdata\u001b[0m\u001b[0;34m.\u001b[0m\u001b[0mmin\u001b[0m\u001b[0;34m(\u001b[0m\u001b[0;34m)\u001b[0m\u001b[0;34m\u001b[0m\u001b[0m\n\u001b[0m\u001b[1;32m    353\u001b[0m             \u001b[0mvmax\u001b[0m \u001b[0;34m=\u001b[0m \u001b[0mdata\u001b[0m\u001b[0;34m.\u001b[0m\u001b[0mmax\u001b[0m\u001b[0;34m(\u001b[0m\u001b[0;34m)\u001b[0m\u001b[0;34m\u001b[0m\u001b[0m\n\u001b[1;32m    354\u001b[0m         \u001b[0;32melse\u001b[0m\u001b[0;34m:\u001b[0m\u001b[0;34m\u001b[0m\u001b[0m\n",
      "\u001b[0;31mAttributeError\u001b[0m: 'Wave_read' object has no attribute 'min'"
     ]
    }
   ],
   "source": [
    "wavio.write(\"input-siri2.wav\", audio, rate, sampwidth=2)"
   ]
  },
  {
   "cell_type": "code",
   "execution_count": 301,
   "metadata": {
    "collapsed": true
   },
   "outputs": [],
   "source": [
    "def parser(filename):\n",
    "    !./sample_wave.py $klikey.clientId $klikey.clientKey input-siri3.wav > returned.txt\n",
    "    if 'email' in open('returned.txt').read():\n",
    "        print(\"email\")\n",
    "    elif 'joke' in open('returned.txt').read(): \n",
    "        print('joke')\n",
    "    else:\n",
    "        print(\"do math\")"
   ]
  },
  {
   "cell_type": "code",
   "execution_count": 302,
   "metadata": {
    "collapsed": false
   },
   "outputs": [
    {
     "name": "stdout",
     "output_type": "stream",
     "text": [
      "============== input-siri3.wav ===================\r\n",
      "Partial transcript: \r\n",
      "Partial transcript: \r\n",
      "Partial transcript: \r\n",
      "Partial transcript: \r\n",
      "Partial transcript: \r\n",
      "Partial transcript: \r\n",
      "Partial transcript: \r\n",
      "Partial transcript: \r\n",
      "Partial transcript: \r\n",
      "Partial transcript: want\r\n",
      "Partial transcript: monte\r\n",
      "Partial transcript: monte\r\n",
      "Partial transcript: monte\r\n",
      "Partial transcript: monte\r\n",
      "Partial transcript: manti te'o\r\n",
      "Partial transcript: manti tell\r\n",
      "Partial transcript: manti tell me\r\n",
      "Partial transcript: manti tell me a\r\n",
      "Partial transcript: manti tell me it\r\n",
      "Partial transcript: manti tell me a joke\r\n",
      "Partial transcript: manti tell me a joke\r\n",
      "Partial transcript: manti tell me a joke\r\n",
      "Partial transcript: manti tell me a joke\r\n",
      "Partial transcript: manti tell me a joke\r\n",
      "Partial transcript: manti tell me a joke\r\n",
      "Partial transcript: manti tell me a joke\r\n",
      "Partial transcript: manti tell me a joke then\r\n",
      "Partial transcript: manti tell me a joke then\r\n",
      "Partial transcript: manti tell me a joke then kill\r\n",
      "Partial transcript: manti tell me a joke then killer\r\n",
      "Partial transcript: manti tell me a joke then killers\r\n",
      "Partial transcript: manti tell me a joke then killers\r\n",
      "Partial transcript: manti tell me a joke then kill yourself\r\n",
      "Partial transcript: manti tell me a joke then kill yourself\r\n"
     ]
    }
   ],
   "source": [
    "!head -35 returned.txt"
   ]
  },
  {
   "cell_type": "code",
   "execution_count": 303,
   "metadata": {
    "collapsed": false
   },
   "outputs": [
    {
     "name": "stdout",
     "output_type": "stream",
     "text": [
      "joke\n"
     ]
    }
   ],
   "source": [
    "parser('input-siri3.wav')"
   ]
  },
  {
   "cell_type": "code",
   "execution_count": 280,
   "metadata": {
    "collapsed": false
   },
   "outputs": [
    {
     "name": "stdout",
     "output_type": "stream",
     "text": [
      "============== input-siri3.wav ===================\n",
      "Partial transcript: \n",
      "Partial transcript: \n",
      "Partial transcript: \n",
      "Partial transcript: \n",
      "Partial transcript: \n",
      "Partial transcript: \n",
      "Partial transcript: \n",
      "Partial transcript: \n",
      "Partial transcript: \n",
      "Partial transcript: want\n",
      "Partial transcript: monte\n",
      "Partial transcript: monte\n",
      "Partial transcript: monte\n",
      "Partial transcript: monte\n",
      "Partial transcript: manti te'o\n",
      "Partial transcript: manti tell\n",
      "Partial transcript: manti tell me\n",
      "Partial transcript: manti tell me a\n",
      "Partial transcript: manti tell me it\n",
      "Partial transcript: manti tell me a joke\n",
      "Partial transcript: manti tell me a joke\n",
      "Partial transcript: manti tell me a joke\n",
      "Partial transcript: manti tell me a joke\n",
      "Partial transcript: manti tell me a joke\n",
      "Partial transcript: manti tell me a joke\n",
      "Partial transcript: manti tell me a joke\n",
      "Partial transcript: manti tell me a joke then\n",
      "Partial transcript: manti tell me a joke then\n",
      "Partial transcript: manti tell me a joke then kill\n",
      "Partial transcript: manti tell me a joke then killer\n",
      "Partial transcript: manti tell me a joke then killers\n",
      "Partial transcript: manti tell me a joke then killers\n",
      "Partial transcript: manti tell me a joke then kill yourself\n",
      "Partial transcript: manti tell me a joke then kill yourself\n",
      "Partial transcript: manti tell me a joke then kill yourself\n",
      "Partial transcript: manti tell me a joke then kill yourself\n",
      "Partial transcript: manti tell me a joke then kill yourself\n",
      "Partial transcript: manti tell me a joke then kill yourself\n",
      "Partial transcript: manti tell me a joke then kill yourself\n",
      "Partial transcript: manti tell me a joke then kill yourself\n",
      "Partial transcript: manti tell me a joke then kill yourself\n",
      "Partial transcript: manti tell me a joke then kill yourself\n",
      "Partial transcript: manti tell me a joke then kill yourself\n",
      "Partial transcript: manti tell me a joke then kill yourself\n",
      "Partial transcript: manti tell me a joke then kill yourself\n",
      "Partial transcript: manti tell me a joke then kill yourself\n",
      "Partial transcript: manti tell me a joke then kill yourself\n",
      "Partial transcript: manti tell me a joke then kill yourself\n",
      "Partial transcript: manti tell me a joke then kill yourself\n",
      "Partial transcript: manti tell me a joke then kill yourself\n",
      "Partial transcript: manti tell me a joke then kill yourself\n",
      "Partial transcript: manti tell me a joke then kill yourself\n",
      "Final response: {'AllResults': [{'RawTranscription': 'manti tell me a joke then kill yourself', 'AutoListen': False, 'FormattedTranscription': 'Manti tell me a joke then kill yourself', 'NativeData': {'RawTranscription': 'manti tell me a joke then kill yourself', 'FormattedTranscription': 'Manti tell me a joke then kill yourself'}, 'CommandKind': 'SpeechToTextOnlyCommand', 'SpokenResponse': 'manti tell me a joke then kill yourself', 'SpokenResponseLong': 'manti tell me a joke then kill yourself', 'WrittenResponse': 'Manti tell me a joke then kill yourself', 'WrittenResponseLong': 'Manti tell me a joke then kill yourself', 'ViewType': ['Native', 'None']}], 'Disambiguation': {'NumToShow': 1, 'ChoiceData': [{'Transcription': 'manti tell me a joke then kill yourself', 'FixedTranscription': 'manti tell me a joke then kill yourself', 'ConfidenceScore': 1}]}, 'Format': 'SoundHoundVoiceSearchResult', 'ServerGeneratedId': '4e6775aa-5d67-4fa7-b94b-8deb95b380ae', 'DomainUsage': [{'Domain': 'Speech To Text Only', 'DomainUniqueID': '3224afd8-821b-4e3e-b206-d92d160048cb', 'CreditsUsed': 0}], 'BuildInfo': {'Date': 'Thu Sep 15 10:25:57 PDT 2016', 'BuildNumber': '3402', 'Variant': 'release', 'SVNBranch': 'dev_multi_machine', 'SVNRevision': '30999', 'User': 'knightly', 'Kind': 'Low Fat', 'Machine': 's10766724502414.pnp.melodis.com'}, 'NumToReturn': 1, 'ResultsAreFinal': [True], 'RealTime': 5.476, 'Status': 'OK', 'FormatVersion': '1.0', 'AudioLength': 4.96999979019165, 'RealSpeechTime': 5.473}\n"
     ]
    }
   ],
   "source": [
    "!./sample_wave.py $klikey.clientId $klikey.clientKey input-siri3.wav"
   ]
  },
  {
   "cell_type": "markdown",
   "metadata": {},
   "source": [
    "# 2) Write a program that identifies musical notes from sound (AIFF) files. \n",
    "\n",
    "  - Run it on the supplied sound files (12) and report your program’s results. \n",
    "  - Use the labeled sounds (4) to make sure it works correctly. The provided sound files contain 1-3 simultaneous notes from different organs.\n",
    "  - Save copies of any example plots to illustrate how your program works.\n",
    "  \n",
    "  https://piazza.com/berkeley/fall2016/ay250/resources -> hw3_sound_files.zip"
   ]
  },
  {
   "cell_type": "markdown",
   "metadata": {},
   "source": [
    "Hints: You’ll want to decompose the sound into a frequency power spectrum. Use a Fast Fourier Transform. Be care about “unpacking” the string hexcode into python data structures. The sound files use 32 bit data. Play around with what happens when you convert the string data to other integer sizes, or signed vs unsigned integers. Also, beware of harmonics."
   ]
  },
  {
   "cell_type": "code",
   "execution_count": 33,
   "metadata": {
    "collapsed": false
   },
   "outputs": [
    {
     "name": "stdout",
     "output_type": "stream",
     "text": [
      "\u001b[34mThinkDSP\u001b[m\u001b[m             hw3_sound_files.zip  sound.py\r\n",
      "\u001b[34m__pycache__\u001b[m\u001b[m          new_file.ogg         \u001b[34msound_files\u001b[m\u001b[m\r\n",
      "homework.ipynb       scipy2015_demo.ipynb\r\n"
     ]
    }
   ],
   "source": [
    "!ls"
   ]
  },
  {
   "cell_type": "code",
   "execution_count": null,
   "metadata": {
    "collapsed": true
   },
   "outputs": [],
   "source": []
  },
  {
   "cell_type": "code",
   "execution_count": 40,
   "metadata": {
    "collapsed": false
   },
   "outputs": [],
   "source": [
    "import pyaudio\n",
    "import numpy as np\n",
    "import scipy as sp\n",
    "from matplotlib import pyplot as plt\n",
    "import os"
   ]
  },
  {
   "cell_type": "code",
   "execution_count": null,
   "metadata": {
    "collapsed": true
   },
   "outputs": [],
   "source": []
  },
  {
   "cell_type": "code",
   "execution_count": 37,
   "metadata": {
    "collapsed": true
   },
   "outputs": [],
   "source": [
    "import soundfile as sf "
   ]
  },
  {
   "cell_type": "code",
   "execution_count": 42,
   "metadata": {
    "collapsed": false
   },
   "outputs": [
    {
     "data": {
      "text/plain": [
       "['sound_files/.DS_Store',\n",
       " 'sound_files/1.aif',\n",
       " 'sound_files/10.aif',\n",
       " 'sound_files/11.aif',\n",
       " 'sound_files/12.aif',\n",
       " 'sound_files/2.aif',\n",
       " 'sound_files/3.aif',\n",
       " 'sound_files/4.aif',\n",
       " 'sound_files/5.aif',\n",
       " 'sound_files/6.aif',\n",
       " 'sound_files/7.aif',\n",
       " 'sound_files/8.aif',\n",
       " 'sound_files/9.aif',\n",
       " 'sound_files/A4_PopOrgan.aif',\n",
       " 'sound_files/C4+A4_PopOrgan.aif',\n",
       " 'sound_files/F3_PopOrgan.aif',\n",
       " 'sound_files/F4_CathedralOrgan.aif']"
      ]
     },
     "execution_count": 42,
     "metadata": {},
     "output_type": "execute_result"
    }
   ],
   "source": [
    "sound_files = sorted([os.path.join(\"sound_files\", x) \\\n",
    "                      for x in os.listdir(\"sound_files\")])\n",
    "sound_files"
   ]
  },
  {
   "cell_type": "code",
   "execution_count": 72,
   "metadata": {
    "collapsed": false
   },
   "outputs": [],
   "source": [
    "def load(filename):\n",
    "    \"\"\"Load an audio file and average over channels. Returns the data as a\n",
    "    numpy array and the sampling rate.\n",
    "\n",
    "    \"\"\"\n",
    "    (data, rate) = sf.read(filename)\n",
    "    if data.ndim == 2:\n",
    "        data = np.mean(data, axis=-1)\n",
    "    rate = fh.samplerate\n",
    "    return data, rate\n"
   ]
  },
  {
   "cell_type": "code",
   "execution_count": 227,
   "metadata": {
    "collapsed": false
   },
   "outputs": [
    {
     "data": {
      "text/plain": [
       "'sound_files/F3_PopOrgan.aif'"
      ]
     },
     "execution_count": 227,
     "metadata": {},
     "output_type": "execute_result"
    }
   ],
   "source": [
    "filename = sound_files[15]; filename"
   ]
  },
  {
   "cell_type": "code",
   "execution_count": 228,
   "metadata": {
    "collapsed": false
   },
   "outputs": [
    {
     "data": {
      "text/plain": [
       "(705600, 2)"
      ]
     },
     "execution_count": 228,
     "metadata": {},
     "output_type": "execute_result"
    }
   ],
   "source": [
    "(data, rate) = sf.read(filename)\n",
    "data.shape"
   ]
  },
  {
   "cell_type": "code",
   "execution_count": 229,
   "metadata": {
    "collapsed": false
   },
   "outputs": [
    {
     "data": {
      "text/plain": [
       "(705600, 2)"
      ]
     },
     "execution_count": 229,
     "metadata": {},
     "output_type": "execute_result"
    }
   ],
   "source": [
    "data.shape"
   ]
  },
  {
   "cell_type": "code",
   "execution_count": 230,
   "metadata": {
    "collapsed": false
   },
   "outputs": [
    {
     "data": {
      "text/plain": [
       "array([  3.05175781e-05,   3.05175781e-05,   2.74658203e-04, ...,\n",
       "         0.00000000e+00,   0.00000000e+00,   0.00000000e+00])"
      ]
     },
     "execution_count": 230,
     "metadata": {},
     "output_type": "execute_result"
    }
   ],
   "source": [
    "if data.shape[1] == 2:\n",
    "        data = np.mean(data, axis=-1)\n",
    "data"
   ]
  },
  {
   "cell_type": "code",
   "execution_count": 231,
   "metadata": {
    "collapsed": false
   },
   "outputs": [
    {
     "data": {
      "text/plain": [
       "44100"
      ]
     },
     "execution_count": 231,
     "metadata": {},
     "output_type": "execute_result"
    }
   ],
   "source": [
    "rate"
   ]
  },
  {
   "cell_type": "code",
   "execution_count": 232,
   "metadata": {
    "collapsed": true
   },
   "outputs": [],
   "source": [
    "def plot_amplitude(data, rate):\n",
    "    time = arange(data.size) \n",
    "    print(time.shape)\n",
    "    time = time/float(rate)\n",
    "    fig = plt.figure(figsize=(7, 4.5))\n",
    "    ax1 = fig.add_subplot(1, 1, 1)\n",
    "    ax1.plot(time, data, color=\"red\", linestyle=\"-\")\n",
    "    ax1.set_xlabel(\"Time (s)\")\n",
    "    ax1.set_ylabel(\"Amplitude\")\n",
    "    ax1.set_xlim(min(time), max(time))"
   ]
  },
  {
   "cell_type": "code",
   "execution_count": 233,
   "metadata": {
    "collapsed": false
   },
   "outputs": [
    {
     "data": {
      "text/plain": [
       "(705600,)"
      ]
     },
     "execution_count": 233,
     "metadata": {},
     "output_type": "execute_result"
    }
   ],
   "source": [
    "data.shape"
   ]
  },
  {
   "cell_type": "code",
   "execution_count": 234,
   "metadata": {
    "collapsed": false
   },
   "outputs": [
    {
     "name": "stdout",
     "output_type": "stream",
     "text": [
      "(705600,)\n"
     ]
    }
   ],
   "source": [
    "time = arange(data.size) \n",
    "print(time.shape)"
   ]
  },
  {
   "cell_type": "code",
   "execution_count": 244,
   "metadata": {
    "collapsed": false
   },
   "outputs": [
    {
     "name": "stdout",
     "output_type": "stream",
     "text": [
      "(705600,)\n"
     ]
    },
    {
     "data": {
      "image/png": "[encoded data removed]",
      "text/plain": [
       "<matplotlib.figure.Figure at 0x1040c7668>"
      ]
     },
     "metadata": {},
     "output_type": "display_data"
    }
   ],
   "source": [
    "plot_amplitude(data, rate)"
   ]
  },
  {
   "cell_type": "code",
   "execution_count": 236,
   "metadata": {
    "collapsed": true
   },
   "outputs": [],
   "source": [
    "def freq_power(data, rate):\n",
    "    \"\"\"Compute the frequency and power spectrum of an audio signal.\"\"\"\n",
    "    n = 10000\n",
    "    fft = np.fft.fft(data, n)[1:n/2]\n",
    "    power = np.abs(fft) ** 2\n",
    "    freq = rate * np.fft.fftfreq(n)[1:n/2]\n",
    "\n",
    "    return freq, power\n"
   ]
  },
  {
   "cell_type": "code",
   "execution_count": 237,
   "metadata": {
    "collapsed": true
   },
   "outputs": [],
   "source": [
    "def plot_power(freq, power):\n",
    "    \"\"\"Plot frequency vs. power of an audio signal.\"\"\"\n",
    "    plt.loglog(freq, power, basex=2, basey=2, color='r')\n",
    "    plt.xlabel(\"Frequency\")\n",
    "    plt.ylabel(\"Power\")\n",
    "\n",
    "    fig = plt.gcf()\n",
    "    fig.set_figwidth(10)\n",
    "    fig.set_figheight(7)\n"
   ]
  },
  {
   "cell_type": "code",
   "execution_count": 245,
   "metadata": {
    "collapsed": false
   },
   "outputs": [
    {
     "name": "stderr",
     "output_type": "stream",
     "text": [
      "/Users/kevinli/anaconda/lib/python3.5/site-packages/ipykernel/__main__.py:4: VisibleDeprecationWarning: using a non-integer number instead of an integer will result in an error in the future\n",
      "/Users/kevinli/anaconda/lib/python3.5/site-packages/ipykernel/__main__.py:6: VisibleDeprecationWarning: using a non-integer number instead of an integer will result in an error in the future\n"
     ]
    },
    {
     "data": {
      "text/plain": [
       "<matplotlib.text.Text at 0x1230448d0>"
      ]
     },
     "execution_count": 245,
     "metadata": {},
     "output_type": "execute_result"
    },
    {
     "data": {
      "image/png": "[encoded data removed]",
      "text/plain": [
       "<matplotlib.figure.Figure at 0x115f0f518>"
      ]
     },
     "metadata": {},
     "output_type": "display_data"
    }
   ],
   "source": [
    "# plot frequency vs. power\n",
    "freq, power = freq_power(data, rate)\n",
    "plot_power(freq, power)\n",
    "plt.title(filename)"
   ]
  },
  {
   "cell_type": "code",
   "execution_count": 239,
   "metadata": {
    "collapsed": true
   },
   "outputs": [],
   "source": [
    "NOTES = [\"C\", \"C#\", \"D\", \"D#\", \"E\", \"F\", \"F#\", \"G\", \"G#\", \"A\", \"A#\", \"B\"]"
   ]
  },
  {
   "cell_type": "code",
   "execution_count": 242,
   "metadata": {
    "collapsed": true
   },
   "outputs": [],
   "source": [
    " \n",
    "\n",
    "def bin_notes(freq, power):\n",
    "    \"\"\"From the frequency and power spectrum of an audio signal, compute\n",
    "    bins corresponding to musical notes. Each bin is the mean of the\n",
    "    power spectrum for the corresponding note. Returns the log\n",
    "    frequencies, note labels, and averaged power.\n",
    "\n",
    "    \"\"\"\n",
    "    scale = [\"%s%d\" % (x, i) for i in range(9) for x in NOTES]\n",
    "    scale = [\"B-1\"] + scale\n",
    "\n",
    "    # B-1 to C8\n",
    "    B_1 = 30.87 / 2\n",
    "    C8 = 4186.01\n",
    "    bins = np.logspace(np.log2(B_1), np.log2(C8), 8*12 + 2, base=2)\n",
    "\n",
    "    scale, bins = zip(*zip(scale, bins))\n",
    "    bins = np.array(bins)\n",
    "\n",
    "    # halfway between B-1 and C0 to halfway between B8 and C8\n",
    "    mids = (bins[:-1] + bins[1:]) / 2.\n",
    "    lower = mids[:-1]\n",
    "    upper = mids[1:]\n",
    "\n",
    "    binned = np.empty(lower.size) * np.nan\n",
    "    for i, (l, u) in enumerate(zip(lower, upper)):\n",
    "        idx = (freq >= l) & (freq < u)\n",
    "        binned[i] = np.mean(power[idx])\n",
    "\n",
    "    X = np.log2(bins[1:-1])\n",
    "    Xt = scale[1:-1]\n",
    "    Y = binned\n",
    "\n",
    "    return X, Xt, Y"
   ]
  },
  {
   "cell_type": "code",
   "execution_count": 243,
   "metadata": {
    "collapsed": false
   },
   "outputs": [
    {
     "name": "stderr",
     "output_type": "stream",
     "text": [
      "/Users/kevinli/anaconda/lib/python3.5/site-packages/numpy/core/_methods.py:59: RuntimeWarning: Mean of empty slice.\n",
      "  warnings.warn(\"Mean of empty slice.\", RuntimeWarning)\n",
      "/Users/kevinli/anaconda/lib/python3.5/site-packages/ipykernel/__main__.py:94: VisibleDeprecationWarning: using a non-integer number instead of an integer will result in an error in the future\n",
      "/Users/kevinli/anaconda/lib/python3.5/site-packages/ipykernel/__main__.py:106: VisibleDeprecationWarning: using a non-integer number instead of an integer will result in an error in the future\n"
     ]
    },
    {
     "name": "stdout",
     "output_type": "stream",
     "text": [
      "Notes:  F\n"
     ]
    },
    {
     "data": {
      "image/png": "[encoded data removed]",
      "text/plain": [
       "<matplotlib.figure.Figure at 0x115383550>"
      ]
     },
     "metadata": {},
     "output_type": "display_data"
    }
   ],
   "source": [
    "bins, notes, Y = bin_notes(freq, power)\n",
    "plot_notes(bins, Y)\n",
    "plt.title(filename)\n",
    "print(\"Notes: \", \" \".join(pick_notes(Y)))"
   ]
  },
  {
   "cell_type": "code",
   "execution_count": null,
   "metadata": {
    "collapsed": true
   },
   "outputs": [],
   "source": []
  },
  {
   "cell_type": "code",
   "execution_count": null,
   "metadata": {
    "collapsed": true
   },
   "outputs": [],
   "source": []
  },
  {
   "cell_type": "code",
   "execution_count": null,
   "metadata": {
    "collapsed": true
   },
   "outputs": [],
   "source": []
  }
 ],
 "metadata": {
  "anaconda-cloud": {},
  "kernelspec": {
   "display_name": "Python [Root]",
   "language": "python",
   "name": "Python [Root]"
  },
  "language_info": {
   "codemirror_mode": {
    "name": "ipython",
    "version": 3
   },
   "file_extension": ".py",
   "mimetype": "text/x-python",
   "name": "python",
   "nbconvert_exporter": "python",
   "pygments_lexer": "ipython3",
   "version": "3.5.2"
  }
 },
 "nbformat": 4,
 "nbformat_minor": 0
}
