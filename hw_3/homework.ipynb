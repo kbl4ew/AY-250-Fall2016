{
 "cells": [
  {
   "cell_type": "markdown",
   "metadata": {},
   "source": [
    "# Interaction with the World Homework (#3)\n",
    "Python Computing for Data Science (c) J Bloom, UC Berkeley, 2016"
   ]
  },
  {
   "cell_type": "markdown",
   "metadata": {},
   "source": [
    "# 1) Monty: The Python Siri\n",
    "\n",
    "Let's make a Siri-like program with the following properties:\n",
    "   - record your voice command\n",
    "   - use a webservice to parse that sound file into text\n",
    "   - based on what the text, take three different types of actions:\n",
    "       - send an email to yourself\n",
    "       - do some math\n",
    "       - tell a joke\n",
    "\n",
    "So for example, if you say \"Monty: email me with subject hello and body goodbye\", it will email you with the appropriate subject and body. If you say \"Monty: tell me a joke\" then it will go to the web and find a joke and print it for you. If you say, \"Monty: calculate two times three\" it should response with printing the number 6.\n",
    "\n",
    "Hint: you can use speed-to-text apps like Houndify to return the text (but not do the actions). You'll need to sign up for a free API and then follow documentation instructions for using the service within Python. "
   ]
  },
  {
   "cell_type": "code",
   "execution_count": 1,
   "metadata": {
    "collapsed": true
   },
   "outputs": [],
   "source": [
    "import pyaudio\n",
    "import seaborn"
   ]
  },
  {
   "cell_type": "code",
   "execution_count": 2,
   "metadata": {
    "collapsed": true
   },
   "outputs": [],
   "source": [
    "import wavio"
   ]
  },
  {
   "cell_type": "code",
   "execution_count": 3,
   "metadata": {
    "collapsed": true
   },
   "outputs": [],
   "source": [
    "import houndify"
   ]
  },
  {
   "cell_type": "code",
   "execution_count": 4,
   "metadata": {
    "collapsed": false
   },
   "outputs": [
    {
     "name": "stdout",
     "output_type": "stream",
     "text": [
      "README.md            input-siri3.wav      \u001b[31msample_stdin.py\u001b[m\u001b[m\r\n",
      "\u001b[34mThinkDSP\u001b[m\u001b[m             klikey               \u001b[31msample_text.py\u001b[m\u001b[m\r\n",
      "\u001b[34m__pycache__\u001b[m\u001b[m          klikey.py            \u001b[31msample_wave.py\u001b[m\u001b[m\r\n",
      "homework.ipynb       klikey2.py           scipy2015_demo.ipynb\r\n",
      "houndify.py          new_file.ogg         sound.py\r\n",
      "hw3_sound_files.zip  \u001b[34mpySHSpeex\u001b[m\u001b[m            \u001b[34msound_files\u001b[m\u001b[m\r\n",
      "input-siri.wav       return.txt           \u001b[34mtest_audio\u001b[m\u001b[m\r\n",
      "input-siri2.wav      returned.txt\r\n"
     ]
    }
   ],
   "source": [
    "!ls"
   ]
  },
  {
   "cell_type": "markdown",
   "metadata": {},
   "source": [
    "#### First, we record an audio query"
   ]
  },
  {
   "cell_type": "code",
   "execution_count": 306,
   "metadata": {
    "collapsed": false
   },
   "outputs": [
    {
     "name": "stdout",
     "output_type": "stream",
     "text": [
      "* done recording\n"
     ]
    }
   ],
   "source": [
    "### How I am recording my audio query\n",
    "chunk = 1024\n",
    "FORMAT = pyaudio.paInt16\n",
    "CHANNELS = 1\n",
    "RATE = 16000\n",
    "RECORD_SECONDS = 5\n",
    "WAVE_OUTPUT_FILENAME = \"input-siri3.wav\"\n",
    "p = pyaudio.PyAudio()\n",
    "stream = p.open(format = FORMAT,\n",
    "    channels = CHANNELS,\n",
    "    rate = RATE,\n",
    "    input = True,\n",
    "    frames_per_buffer = chunk)\n",
    "all = []\n",
    "for i in range(0, int(RATE / chunk * RECORD_SECONDS)):\n",
    "    data = stream.read(chunk)\n",
    "    all.append(data)\n",
    "print(\"* done recording\")\n",
    "stream.close()\n",
    "p.terminate()"
   ]
  },
  {
   "cell_type": "code",
   "execution_count": 21,
   "metadata": {
    "collapsed": true
   },
   "outputs": [],
   "source": [
    "def record():\n",
    "    ### How I am recording my audio query\n",
    "    chunk = 1024\n",
    "    FORMAT = pyaudio.paInt16\n",
    "    CHANNELS = 1\n",
    "    RATE = 16000\n",
    "    RECORD_SECONDS = 5\n",
    "    WAVE_OUTPUT_FILENAME = \"input-siri3.wav\"\n",
    "    p = pyaudio.PyAudio()\n",
    "    stream = p.open(format = FORMAT,\n",
    "        channels = CHANNELS,\n",
    "        rate = RATE,\n",
    "        input = True,\n",
    "        frames_per_buffer = chunk)\n",
    "    all = []\n",
    "    for i in range(0, int(RATE / chunk * RECORD_SECONDS)):\n",
    "        data = stream.read(chunk)\n",
    "        all.append(data)\n",
    "    print(\"* done recording\")\n",
    "    stream.close()\n",
    "    p.terminate()"
   ]
  },
  {
   "cell_type": "code",
   "execution_count": 307,
   "metadata": {
    "collapsed": false
   },
   "outputs": [
    {
     "data": {
      "text/plain": [
       "2"
      ]
     },
     "execution_count": 307,
     "metadata": {},
     "output_type": "execute_result"
    }
   ],
   "source": [
    "audio = wave.open(\"input-siri3.wav\")\n",
    "audio.getsampwidth()"
   ]
  },
  {
   "cell_type": "code",
   "execution_count": 308,
   "metadata": {
    "collapsed": false,
    "scrolled": true
   },
   "outputs": [
    {
     "data": {
      "text/plain": [
       "16000"
      ]
     },
     "execution_count": 308,
     "metadata": {},
     "output_type": "execute_result"
    }
   ],
   "source": [
    "audio.getframerate()"
   ]
  },
  {
   "cell_type": "code",
   "execution_count": 309,
   "metadata": {
    "collapsed": false
   },
   "outputs": [
    {
     "data": {
      "text/plain": [
       "2"
      ]
     },
     "execution_count": 309,
     "metadata": {},
     "output_type": "execute_result"
    }
   ],
   "source": [
    "p.get_sample_size(FORMAT)"
   ]
  },
  {
   "cell_type": "code",
   "execution_count": 310,
   "metadata": {
    "collapsed": false
   },
   "outputs": [],
   "source": [
    "import wave\n",
    "data = b\"\".join(all)\n",
    "wf = wave.open(WAVE_OUTPUT_FILENAME, \"wb\")\n",
    "wf.setnchannels(CHANNELS)\n",
    "wf.setsampwidth(p.get_sample_size(FORMAT))\n",
    "wf.setframerate(RATE)\n",
    "wf.writeframes(data)\n",
    "wf.close()"
   ]
  },
  {
   "cell_type": "code",
   "execution_count": 311,
   "metadata": {
    "collapsed": false
   },
   "outputs": [
    {
     "data": {
      "text/plain": [
       "<wave.Wave_write at 0x12a545470>"
      ]
     },
     "execution_count": 311,
     "metadata": {},
     "output_type": "execute_result"
    }
   ],
   "source": [
    "wf"
   ]
  },
  {
   "cell_type": "code",
   "execution_count": 5,
   "metadata": {
    "collapsed": true
   },
   "outputs": [],
   "source": [
    "!open input-siri3.wav"
   ]
  },
  {
   "cell_type": "code",
   "execution_count": 159,
   "metadata": {
    "collapsed": false
   },
   "outputs": [
    {
     "name": "stdout",
     "output_type": "stream",
     "text": [
      "README.md            input-siri.wav       \u001b[31msample_text.py\u001b[m\u001b[m\r\n",
      "\u001b[34mThinkDSP\u001b[m\u001b[m             klikey               \u001b[31msample_wave.py\u001b[m\u001b[m\r\n",
      "\u001b[34m__pycache__\u001b[m\u001b[m          klikey.py            scipy2015_demo.ipynb\r\n",
      "homework.ipynb       new_file.ogg         sound.py\r\n",
      "houndify.py          \u001b[34mpySHSpeex\u001b[m\u001b[m            \u001b[34msound_files\u001b[m\u001b[m\r\n",
      "hw3_sound_files.zip  \u001b[31msample_stdin.py\u001b[m\u001b[m      \u001b[34mtest_audio\u001b[m\u001b[m\r\n"
     ]
    }
   ],
   "source": [
    "!ls"
   ]
  },
  {
   "cell_type": "code",
   "execution_count": 6,
   "metadata": {
    "collapsed": false
   },
   "outputs": [],
   "source": [
    "import klikey"
   ]
  },
  {
   "cell_type": "code",
   "execution_count": 20,
   "metadata": {
    "collapsed": false
   },
   "outputs": [
    {
     "name": "stdout",
     "output_type": "stream",
     "text": [
      "/bin/sh: =: command not found\r\n"
     ]
    }
   ],
   "source": [
    "!$filename = returned.txt\n",
    "!./sample_wave.py $klikey.clientId $klikey.clientKey $filename > returned.txt"
   ]
  },
  {
   "cell_type": "code",
   "execution_count": 22,
   "metadata": {
    "collapsed": true
   },
   "outputs": [],
   "source": [
    "def parser(filename):\n",
    "    '''\n",
    "    Description: \n",
    "    Input: filename of .wav file\n",
    "    The function checks for the key words, and conducts tasks based on the result\n",
    "    Output: 3 actions\n",
    "    '''\n",
    "    #filename = \"input-siri3.wav\"\n",
    "    !./sample_wave.py $klikey.clientId $klikey.clientKey $filename > returned.txt\n",
    "    if 'email' in open('returned.txt').read():\n",
    "        print(\"email found, time to send an email\")\n",
    "        sendEmails()\n",
    "    elif 'joke' in open('returned.txt').read(): \n",
    "        print('joke found, find him a joke')\n",
    "    else:\n",
    "        print(\"do some math (aka query google!)\")\n",
    "        query=math_finder()\n",
    "        "
   ]
  },
  {
   "cell_type": "code",
   "execution_count": 23,
   "metadata": {
    "collapsed": false
   },
   "outputs": [
    {
     "name": "stdout",
     "output_type": "stream",
     "text": [
      "do some math (aka query google!)\n"
     ]
    }
   ],
   "source": [
    "parser(\"input-siri3.wav\")"
   ]
  },
  {
   "cell_type": "code",
   "execution_count": 11,
   "metadata": {
    "collapsed": false
   },
   "outputs": [
    {
     "name": "stdout",
     "output_type": "stream",
     "text": [
      "============== input-siri3.wav ===================\r\n",
      "Partial transcript: \r\n",
      "Partial transcript: \r\n",
      "Partial transcript: \r\n",
      "Partial transcript: \r\n",
      "Partial transcript: \r\n",
      "Partial transcript: \r\n",
      "Partial transcript: \r\n",
      "Partial transcript: \r\n",
      "Partial transcript: \r\n",
      "Partial transcript: three\r\n",
      "Partial transcript: three\r\n",
      "Partial transcript: three\r\n",
      "Partial transcript: three\r\n",
      "Partial transcript: three\r\n",
      "Partial transcript: three\r\n",
      "Partial transcript: three plus\r\n",
      "Partial transcript: three plus\r\n",
      "Partial transcript: three plus\r\n",
      "Partial transcript: three plus\r\n",
      "Partial transcript: three plus for\r\n",
      "Partial transcript: three plus five\r\n",
      "Partial transcript: three plus five\r\n",
      "Partial transcript: three plus five\r\n",
      "Partial transcript: three plus five\r\n",
      "Partial transcript: three plus five\r\n",
      "Partial transcript: three plus five\r\n",
      "Partial transcript: three plus five\r\n",
      "Partial transcript: three plus five\r\n",
      "Partial transcript: three plus five plus\r\n",
      "Partial transcript: three plus five plus\r\n",
      "Partial transcript: three plus five plus\r\n",
      "Partial transcript: three plus five plus\r\n",
      "Partial transcript: three plus five plus\r\n",
      "Partial transcript: three plus five plus four\r\n",
      "Partial transcript: three plus five plus four\r\n",
      "Partial transcript: three plus five plus four\r\n",
      "Partial transcript: three plus five plus four\r\n",
      "Partial transcript: three plus five plus four\r\n",
      "Partial transcript: three plus five plus four\r\n",
      "Partial transcript: three plus five plus four\r\n",
      "Partial transcript: three plus five plus four\r\n",
      "Partial transcript: three plus five plus four\r\n",
      "Partial transcript: three plus five plus four\r\n",
      "Partial transcript: three plus five plus four\r\n",
      "Partial transcript: three plus five plus four\r\n",
      "Partial transcript: three plus five plus four\r\n",
      "Partial transcript: three plus five plus four\r\n",
      "Partial transcript: three plus five plus four\r\n",
      "Partial transcript: three plus five plus four\r\n"
     ]
    }
   ],
   "source": [
    "!head -50 returned.txt"
   ]
  },
  {
   "cell_type": "code",
   "execution_count": 32,
   "metadata": {
    "collapsed": false,
    "scrolled": false
   },
   "outputs": [
    {
     "data": {
      "text/plain": [
       "'three+plus+five+plus+four'"
      ]
     },
     "execution_count": 32,
     "metadata": {},
     "output_type": "execute_result"
    }
   ],
   "source": [
    "def math_finder():\n",
    "    lst_line = None\n",
    "    with open(\"returned.txt\") as f:\n",
    "        for line in f:\n",
    "            #print(line)\n",
    "            if 'Partial transcript: ' in line:\n",
    "                lst_line = line\n",
    "            #print(line)\n",
    "    lst_line = lst_line.split(': ')[1]\n",
    "    lst_line = lst_line.strip('\\n')\n",
    "    line = lst_line.replace(' ','+')\n",
    "    return(line)\n",
    "        \n",
    "df = math_finder() \n",
    "df"
   ]
  },
  {
   "cell_type": "code",
   "execution_count": 28,
   "metadata": {
    "collapsed": true
   },
   "outputs": [],
   "source": [
    "import klikey2\n",
    "import smtplib\n",
    "from email.mime.multipart import MIMEMultipart\n",
    "from email.mime.text import MIMEText"
   ]
  },
  {
   "cell_type": "code",
   "execution_count": 26,
   "metadata": {
    "collapsed": false
   },
   "outputs": [],
   "source": [
    "def sendEmails():\n",
    "    fromaddr = \"kli09181990@gmail.com\"\n",
    "    toaddr = \"kingofthesouth-kevinthegreat@hotmail.com\"\n",
    "    msg = MIMEMultipart()\n",
    "    msg['From'] = fromaddr\n",
    "    msg['To'] = toaddr\n",
    "    msg['Subject'] = \"Hi\"\n",
    " \n",
    "    body = \"Bye\"\n",
    "    msg.attach(MIMEText(body, 'plain'))\n",
    " \n",
    "    server = smtplib.SMTP('smtp.gmail.com', 587)\n",
    "    server.starttls()\n",
    "    server.login(fromaddr, klikey2.password)\n",
    "    text = msg.as_string()\n",
    "    server.sendmail(fromaddr, toaddr, text)\n",
    "    server.quit()"
   ]
  },
  {
   "cell_type": "code",
   "execution_count": 329,
   "metadata": {
    "collapsed": false
   },
   "outputs": [
    {
     "data": {
      "text/plain": [
       "(221, b'2.0.0 closing connection gm1sm421824pac.2 - gsmtp')"
      ]
     },
     "execution_count": 329,
     "metadata": {},
     "output_type": "execute_result"
    }
   ],
   "source": [
    "import smtplib\n",
    "from email.mime.multipart import MIMEMultipart\n",
    "from email.mime.text import MIMEText\n",
    " \n",
    " \n",
    "fromaddr = \"kli09181990@gmail.com\"\n",
    "toaddr = \"kingofthesouth-kevinthegreat@hotmail.com\"\n",
    "msg = MIMEMultipart()\n",
    "msg['From'] = fromaddr\n",
    "msg['To'] = toaddr\n",
    "msg['Subject'] = \"Hi\"\n",
    " \n",
    "body = \"Bye\"\n",
    "msg.attach(MIMEText(body, 'plain'))\n",
    " \n",
    "server = smtplib.SMTP('smtp.gmail.com', 587)\n",
    "server.starttls()\n",
    "server.login(fromaddr, klikey2.password)\n",
    "text = msg.as_string()\n",
    "server.sendmail(fromaddr, toaddr, text)\n",
    "server.quit()"
   ]
  },
  {
   "cell_type": "code",
   "execution_count": 30,
   "metadata": {
    "collapsed": false
   },
   "outputs": [],
   "source": [
    "sendEmails()"
   ]
  },
  {
   "cell_type": "code",
   "execution_count": 31,
   "metadata": {
    "collapsed": false
   },
   "outputs": [
    {
     "name": "stdout",
     "output_type": "stream",
     "text": [
      "do some math (aka query google!)\n"
     ]
    }
   ],
   "source": [
    "parser('input-siri3.wav') # Basic Test Case"
   ]
  },
  {
   "cell_type": "code",
   "execution_count": 78,
   "metadata": {
    "collapsed": true
   },
   "outputs": [],
   "source": [
    "base_query = \"https://www.google.com.hk/\""
   ]
  },
  {
   "cell_type": "code",
   "execution_count": 34,
   "metadata": {
    "collapsed": false
   },
   "outputs": [],
   "source": [
    "base_query = \"https://google.com/search?\""
   ]
  },
  {
   "cell_type": "code",
   "execution_count": 56,
   "metadata": {
    "collapsed": true
   },
   "outputs": [],
   "source": [
    "base_query = 'http://ajax.googleapis.com/ajax/services/search/web?v=1.0&%s'"
   ]
  },
  {
   "cell_type": "code",
   "execution_count": null,
   "metadata": {
    "collapsed": true
   },
   "outputs": [],
   "source": [
    "letters = \"qwertyuioplkjhgfdsazxcvbnm\"\n",
    "boy_names = []\n",
    "for n in string.ascii_uppercase[:26]:\n",
    "    url = \"http://nameberry.com/search/boys_names/\" + n\n",
    "    response = urlopen(url)\n",
    "    html = response.read()\n",
    "    response.close()\n",
    "    soup = BeautifulSoup(html,\"html.parser\")\n",
    "    items = soup.findAll(\"li\", class_=\"name_in_list\")\n",
    "    for item in items:\n",
    "        if len(item.findAll(\"a\")) == 1:\n",
    "            boy_names.append(item.a.get_text())"
   ]
  },
  {
   "cell_type": "code",
   "execution_count": 50,
   "metadata": {
    "collapsed": false
   },
   "outputs": [
    {
     "name": "stdout",
     "output_type": "stream",
     "text": [
      "\u001b[31mBeautifulSoup.py\u001b[m\u001b[m     input-siri2.wav      \u001b[31msample_wave.py\u001b[m\u001b[m\r\n",
      "README.md            input-siri3.wav      scipy2015_demo.ipynb\r\n",
      "\u001b[34mThinkDSP\u001b[m\u001b[m             klikey               \u001b[31msearch.py\u001b[m\u001b[m\r\n",
      "\u001b[31m__init__.py\u001b[m\u001b[m          klikey.py            sound.py\r\n",
      "\u001b[34m__pycache__\u001b[m\u001b[m          klikey2.py           \u001b[34msound_files\u001b[m\u001b[m\r\n",
      "\u001b[31mbrowser.py\u001b[m\u001b[m           new_file.ogg         \u001b[31msponsoredlinks.py\u001b[m\u001b[m\r\n",
      "\u001b[31mgooglesets.py\u001b[m\u001b[m        \u001b[34mpySHSpeex\u001b[m\u001b[m            \u001b[34mtest_audio\u001b[m\u001b[m\r\n",
      "homework.ipynb       return.txt           \u001b[31mtranslate.py\u001b[m\u001b[m\r\n",
      "houndify.py          returned.txt         \u001b[34mxgoogle\u001b[m\u001b[m\r\n",
      "hw3_sound_files.zip  \u001b[31msample_stdin.py\u001b[m\u001b[m\r\n",
      "input-siri.wav       \u001b[31msample_text.py\u001b[m\u001b[m\r\n"
     ]
    }
   ],
   "source": [
    "!ls "
   ]
  },
  {
   "cell_type": "code",
   "execution_count": 54,
   "metadata": {
    "collapsed": false
   },
   "outputs": [
    {
     "ename": "SyntaxError",
     "evalue": "invalid syntax (search.py, line 124)",
     "output_type": "error",
     "traceback": [
      "\u001b[0;36m  File \u001b[0;32m\"/Users/kevinli/src/AY-250-Fall2016/hw_3/search.py\"\u001b[0;36m, line \u001b[0;32m124\u001b[0m\n\u001b[0;31m    raise SearchError, \"Wrong parameter to first_indexed_in_previous: %s\" % (str(interval))\u001b[0m\n\u001b[0m                     ^\u001b[0m\n\u001b[0;31mSyntaxError\u001b[0m\u001b[0;31m:\u001b[0m invalid syntax\n"
     ]
    }
   ],
   "source": [
    "import search"
   ]
  },
  {
   "cell_type": "code",
   "execution_count": 61,
   "metadata": {
    "collapsed": false
   },
   "outputs": [],
   "source": [
    "import google_api_key"
   ]
  },
  {
   "cell_type": "code",
   "execution_count": 80,
   "metadata": {
    "collapsed": false
   },
   "outputs": [
    {
     "data": {
      "text/plain": [
       "'https://www.google.com.hk/'"
      ]
     },
     "execution_count": 80,
     "metadata": {},
     "output_type": "execute_result"
    }
   ],
   "source": [
    "url\n"
   ]
  },
  {
   "cell_type": "code",
   "execution_count": 40,
   "metadata": {
    "collapsed": false
   },
   "outputs": [
    {
     "data": {
      "text/plain": [
       "'https://google.com/search?q=three+plus+five+plus+four'"
      ]
     },
     "execution_count": 40,
     "metadata": {},
     "output_type": "execute_result"
    }
   ],
   "source": [
    "url"
   ]
  },
  {
   "cell_type": "code",
   "execution_count": 37,
   "metadata": {
    "collapsed": false
   },
   "outputs": [
    {
     "data": {
      "text/plain": [
       "[]"
      ]
     },
     "execution_count": 37,
     "metadata": {},
     "output_type": "execute_result"
    }
   ],
   "source": [
    "items"
   ]
  },
  {
   "cell_type": "code",
   "execution_count": 85,
   "metadata": {
    "collapsed": false
   },
   "outputs": [],
   "source": [
    "try:\n",
    "    # For Python 3.0 and later\n",
    "    from urllib.request import urlopen\n",
    "except ImportError:\n",
    "    # Fall back to Python 2's urllib2\n",
    "    from urllib2 import urlopen\n",
    "from bs4 import BeautifulSoup\n",
    "url = base_query + \"#q=three+plus+five+plus+four+hundred\"\n",
    "response = urlopen(url)\n",
    "html = response.read()\n",
    "response.close()\n",
    "soup = BeautifulSoup(html,\"html.parser\")\n",
    "items = soup.findAll(\"li\", class_=\"name_in_list\")"
   ]
  },
  {
   "cell_type": "markdown",
   "metadata": {},
   "source": [
    "# 2) Write a program that identifies musical notes from sound (AIFF) files. \n",
    "\n",
    "  - Run it on the supplied sound files (12) and report your program’s results. \n",
    "  - Use the labeled sounds (4) to make sure it works correctly. The provided sound files contain 1-3 simultaneous notes from different organs.\n",
    "  - Save copies of any example plots to illustrate how your program works.\n",
    "  \n",
    "  https://piazza.com/berkeley/fall2016/ay250/resources -> hw3_sound_files.zip"
   ]
  },
  {
   "cell_type": "markdown",
   "metadata": {},
   "source": [
    "Hints: You’ll want to decompose the sound into a frequency power spectrum. Use a Fast Fourier Transform. Be care about “unpacking” the string hexcode into python data structures. The sound files use 32 bit data. Play around with what happens when you convert the string data to other integer sizes, or signed vs unsigned integers. Also, beware of harmonics."
   ]
  },
  {
   "cell_type": "code",
   "execution_count": 33,
   "metadata": {
    "collapsed": false
   },
   "outputs": [
    {
     "name": "stdout",
     "output_type": "stream",
     "text": [
      "\u001b[34mThinkDSP\u001b[m\u001b[m             hw3_sound_files.zip  sound.py\r\n",
      "\u001b[34m__pycache__\u001b[m\u001b[m          new_file.ogg         \u001b[34msound_files\u001b[m\u001b[m\r\n",
      "homework.ipynb       scipy2015_demo.ipynb\r\n"
     ]
    }
   ],
   "source": [
    "!ls"
   ]
  },
  {
   "cell_type": "code",
   "execution_count": 114,
   "metadata": {
    "collapsed": false
   },
   "outputs": [
    {
     "name": "stdout",
     "output_type": "stream",
     "text": [
      "Populating the interactive namespace from numpy and matplotlib\n"
     ]
    },
    {
     "name": "stderr",
     "output_type": "stream",
     "text": [
      "WARNING: pylab import has clobbered these variables: ['load', 'record', 'rate']\n",
      "`%matplotlib` prevents importing * from pylab and numpy\n"
     ]
    }
   ],
   "source": [
    "import numpy\n",
    "%pylab inline"
   ]
  },
  {
   "cell_type": "code",
   "execution_count": 99,
   "metadata": {
    "collapsed": false
   },
   "outputs": [],
   "source": [
    "import pyaudio\n",
    "import numpy as np\n",
    "import scipy as sp\n",
    "from matplotlib import pyplot as plt\n",
    "import os"
   ]
  },
  {
   "cell_type": "code",
   "execution_count": null,
   "metadata": {
    "collapsed": true
   },
   "outputs": [],
   "source": []
  },
  {
   "cell_type": "code",
   "execution_count": 100,
   "metadata": {
    "collapsed": true
   },
   "outputs": [],
   "source": [
    "import soundfile as sf "
   ]
  },
  {
   "cell_type": "code",
   "execution_count": 238,
   "metadata": {
    "collapsed": false
   },
   "outputs": [
    {
     "data": {
      "text/plain": [
       "['sound_files/.DS_Store',\n",
       " 'sound_files/1.aif',\n",
       " 'sound_files/10.aif',\n",
       " 'sound_files/11.aif',\n",
       " 'sound_files/12.aif',\n",
       " 'sound_files/2.aif',\n",
       " 'sound_files/3.aif',\n",
       " 'sound_files/4.aif',\n",
       " 'sound_files/5.aif',\n",
       " 'sound_files/6.aif',\n",
       " 'sound_files/7.aif',\n",
       " 'sound_files/8.aif',\n",
       " 'sound_files/9.aif',\n",
       " 'sound_files/A4_PopOrgan.aif',\n",
       " 'sound_files/C4+A4_PopOrgan.aif',\n",
       " 'sound_files/F3_PopOrgan.aif',\n",
       " 'sound_files/F4_CathedralOrgan.aif']"
      ]
     },
     "execution_count": 238,
     "metadata": {},
     "output_type": "execute_result"
    }
   ],
   "source": [
    "sound_files = sorted([os.path.join(\"sound_files\", x) \\\n",
    "                      for x in os.listdir(\"sound_files\")])\n",
    "sound_files"
   ]
  },
  {
   "cell_type": "code",
   "execution_count": 246,
   "metadata": {
    "collapsed": false
   },
   "outputs": [],
   "source": [
    "def load(filename):\n",
    "    \"\"\"\n",
    "    Input: an aif file\n",
    "    Description: Load an audio file and average over channels. Returns the data as a\n",
    "    numpy array and the sampling rate.\n",
    "    Output: Data and Rate\n",
    "    \"\"\"\n",
    "    (data, rate) = sf.read(filename)\n",
    "    if data.ndim == 2:\n",
    "        data = np.mean(data, axis=-1)\n",
    "    # rate = sf.samplerate\n",
    "    return data, rate\n"
   ]
  },
  {
   "cell_type": "code",
   "execution_count": 211,
   "metadata": {
    "collapsed": false
   },
   "outputs": [
    {
     "data": {
      "text/plain": [
       "'sound_files/9.aif'"
      ]
     },
     "execution_count": 211,
     "metadata": {},
     "output_type": "execute_result"
    }
   ],
   "source": [
    "filename = sound_files[12]; filename"
   ]
  },
  {
   "cell_type": "code",
   "execution_count": 212,
   "metadata": {
    "collapsed": false
   },
   "outputs": [
    {
     "data": {
      "text/plain": [
       "(705600, 2)"
      ]
     },
     "execution_count": 212,
     "metadata": {},
     "output_type": "execute_result"
    }
   ],
   "source": [
    "(data, rate) = sf.read(filename)\n",
    "data.shape"
   ]
  },
  {
   "cell_type": "code",
   "execution_count": 213,
   "metadata": {
    "collapsed": false
   },
   "outputs": [
    {
     "data": {
      "text/plain": [
       "(705600, 2)"
      ]
     },
     "execution_count": 213,
     "metadata": {},
     "output_type": "execute_result"
    }
   ],
   "source": [
    "data.shape"
   ]
  },
  {
   "cell_type": "code",
   "execution_count": 214,
   "metadata": {
    "collapsed": false
   },
   "outputs": [
    {
     "data": {
      "text/plain": [
       "array([ -3.05175781e-05,  -1.52587891e-05,   7.62939453e-05, ...,\n",
       "         0.00000000e+00,   0.00000000e+00,   0.00000000e+00])"
      ]
     },
     "execution_count": 214,
     "metadata": {},
     "output_type": "execute_result"
    }
   ],
   "source": [
    "if data.shape[1] == 2:\n",
    "        data = np.mean(data, axis=-1)\n",
    "data"
   ]
  },
  {
   "cell_type": "code",
   "execution_count": 215,
   "metadata": {
    "collapsed": false
   },
   "outputs": [
    {
     "data": {
      "text/plain": [
       "44100"
      ]
     },
     "execution_count": 215,
     "metadata": {},
     "output_type": "execute_result"
    }
   ],
   "source": [
    "rate"
   ]
  },
  {
   "cell_type": "code",
   "execution_count": 233,
   "metadata": {
    "collapsed": false
   },
   "outputs": [],
   "source": [
    "def plot_amplitude(data, rate):\n",
    "    time = arange(data.size) \n",
    "    print(time.shape)\n",
    "    time = time/float(rate)\n",
    "    fig = plt.figure(figsize=(7, 4.5))\n",
    "    ax1 = fig.add_subplot(1, 1, 1)\n",
    "    ax1.plot(time, data, 'b', linestyle=\"-\")\n",
    "    ax1.set_xlabel(\"Time (s)\")\n",
    "    ax1.set_ylabel(\"Amplitude\")\n",
    "    ax1.set_xlim(min(time), max(time))"
   ]
  },
  {
   "cell_type": "code",
   "execution_count": 234,
   "metadata": {
    "collapsed": false
   },
   "outputs": [
    {
     "data": {
      "text/plain": [
       "(705600,)"
      ]
     },
     "execution_count": 234,
     "metadata": {},
     "output_type": "execute_result"
    }
   ],
   "source": [
    "data.shape"
   ]
  },
  {
   "cell_type": "code",
   "execution_count": 235,
   "metadata": {
    "collapsed": false
   },
   "outputs": [
    {
     "name": "stdout",
     "output_type": "stream",
     "text": [
      "(705600,)\n"
     ]
    }
   ],
   "source": [
    "time = arange(data.size) \n",
    "print(time.shape)"
   ]
  },
  {
   "cell_type": "code",
   "execution_count": 236,
   "metadata": {
    "collapsed": false
   },
   "outputs": [
    {
     "name": "stdout",
     "output_type": "stream",
     "text": [
      "(705600,)\n"
     ]
    },
    {
     "data": {
      "image/png": "[encoded data removed]",
      "text/plain": [
       "<matplotlib.figure.Figure at 0x1224a5cc0>"
      ]
     },
     "metadata": {},
     "output_type": "display_data"
    }
   ],
   "source": [
    "plot_amplitude(data, rate)"
   ]
  },
  {
   "cell_type": "code",
   "execution_count": 220,
   "metadata": {
    "collapsed": true
   },
   "outputs": [],
   "source": [
    "def time_to_freq_pow(data, rate):\n",
    "    \"\"\"\n",
    "    Input: Data, Rate\n",
    "    Description: Use FFT to convert to freq power spectrum\n",
    "    Output: freq-power spectrum\n",
    "    \"\"\"\n",
    "    n = 10000\n",
    "    fft = np.fft.fft(data, n)[1:n/2]\n",
    "    power = np.abs(fft) ** 2\n",
    "    frequency = rate * np.fft.fftfreq(n)[1:n/2]\n",
    "\n",
    "    return frequency, power\n"
   ]
  },
  {
   "cell_type": "code",
   "execution_count": 221,
   "metadata": {
    "collapsed": false
   },
   "outputs": [],
   "source": [
    "def power_plot(freq, power):\n",
    "    plt.loglog(freq, power, basex=2, basey=2, color='b')\n",
    "    plt.xlabel(\"Frequency\")\n",
    "    plt.ylabel(\"Power\")\n",
    "    plt.gcf()\n"
   ]
  },
  {
   "cell_type": "code",
   "execution_count": 222,
   "metadata": {
    "collapsed": false
   },
   "outputs": [
    {
     "name": "stderr",
     "output_type": "stream",
     "text": [
      "/Users/kevinli/anaconda/lib/python3.5/site-packages/ipykernel/__main__.py:8: VisibleDeprecationWarning: using a non-integer number instead of an integer will result in an error in the future\n",
      "/Users/kevinli/anaconda/lib/python3.5/site-packages/ipykernel/__main__.py:10: VisibleDeprecationWarning: using a non-integer number instead of an integer will result in an error in the future\n"
     ]
    },
    {
     "data": {
      "text/plain": [
       "<matplotlib.text.Text at 0x11a029dd8>"
      ]
     },
     "execution_count": 222,
     "metadata": {},
     "output_type": "execute_result"
    },
    {
     "data": {
      "image/png": "[encoded data removed]",
      "text/plain": [
       "<matplotlib.figure.Figure at 0x119964cc0>"
      ]
     },
     "metadata": {},
     "output_type": "display_data"
    }
   ],
   "source": [
    "# plot frequency vs. power\n",
    "freq, power = time_to_freq_pow(data, rate)\n",
    "power_plot(freq, power)\n",
    "plt.title(filename)"
   ]
  },
  {
   "cell_type": "markdown",
   "metadata": {},
   "source": [
    "#### Musical Notes\n",
    "In our analysis, c8 is the lowest note while b-1 is the highest"
   ]
  },
  {
   "cell_type": "code",
   "execution_count": 223,
   "metadata": {
    "collapsed": true
   },
   "outputs": [],
   "source": [
    "# References: https://en.wikipedia.org/wiki/Musical_note\n",
    "notes = [\"C\", \"C#\", \"D\", \"D#\", \"E\", \"F\", \"F#\", \"G\", \"G#\", \"A\", \"A#\", \"B\"]"
   ]
  },
  {
   "cell_type": "code",
   "execution_count": 224,
   "metadata": {
    "collapsed": true
   },
   "outputs": [],
   "source": [
    " def freq_to_notes(freq, power):\n",
    "    \"\"\"\n",
    "    Input: the freqeuncy and power spectrum created\n",
    "    Description: Inferring the correct note based on the frequency and power spectrum\n",
    "    Output: log frequencies, note labels, and averaged power.\n",
    "\n",
    "    \"\"\"\n",
    "    scale = [\"%s%d\" % (x, i) for i in range(9) for x in notes]\n",
    "    scale = [\"B-1\"] + scale\n",
    "\n",
    "    B_1 = 30.87 / 2\n",
    "    C8 = 4186.01\n",
    "    bins = np.logspace(np.log2(B_1), np.log2(C8), 8*12 + 2, base=2)\n",
    "\n",
    "    scale, bins = zip(*zip(scale, bins))\n",
    "    bins = np.array(bins)\n",
    "\n",
    "    mids = (bins[:-1] + bins[1:]) / 2.\n",
    "    lower = mids[:-1]\n",
    "    upper = mids[1:]\n",
    "\n",
    "    binned = np.empty(lower.size) * np.nan\n",
    "    for i, (l, u) in enumerate(zip(lower, upper)):\n",
    "        idx = (freq >= l) & (freq < u)\n",
    "        binned[i] = np.mean(power[idx])\n",
    "\n",
    "    X = np.log2(bins[1:-1])\n",
    "    Xt = scale[1:-1]\n",
    "    Y = binned\n",
    "\n",
    "    return X, Xt, Y"
   ]
  },
  {
   "cell_type": "code",
   "execution_count": 225,
   "metadata": {
    "collapsed": false
   },
   "outputs": [
    {
     "data": {
      "text/plain": [
       "96"
      ]
     },
     "execution_count": 225,
     "metadata": {},
     "output_type": "execute_result"
    }
   ],
   "source": [
    "Y.size"
   ]
  },
  {
   "cell_type": "code",
   "execution_count": 204,
   "metadata": {
    "collapsed": false
   },
   "outputs": [
    {
     "data": {
      "text/plain": [
       "4999"
      ]
     },
     "execution_count": 204,
     "metadata": {},
     "output_type": "execute_result"
    }
   ],
   "source": [
    "power.size"
   ]
  },
  {
   "cell_type": "code",
   "execution_count": 205,
   "metadata": {
    "collapsed": true
   },
   "outputs": [],
   "source": [
    "def histogram_plot(bins, power):\n",
    "    n = len(notes)\n",
    "    m = power.size / n\n",
    "    X = np.arange(n)\n",
    "    powers = np.nansum(power.reshape((m, n)), axis=0)\n",
    "    plt.bar(X, powers, align='center')\n",
    "    plt.xticks(np.arange(12), notes)\n",
    "    plt.xlim(-0.5, 11.5)\n",
    "    plt.ylabel(\"Power\")\n",
    "    plt.xlabel(\"Musical Scale\")"
   ]
  },
  {
   "cell_type": "code",
   "execution_count": 189,
   "metadata": {
    "collapsed": true
   },
   "outputs": [],
   "source": [
    "def histogram_plot(power):\n",
    "    n = len(notes)\n",
    "    m = power.size/n\n",
    "    X = arange(n)\n",
    "    power = np.nansum(power.reshape((m, n)), axis = 0)\n",
    "    plt.bar(X, power, align=\"center\")\n",
    "    plt.xlabel(\"Notes\")\n",
    "    plt.xticks(np.arange(12), notes)\n",
    "    plt.ylabel('Power')"
   ]
  },
  {
   "cell_type": "code",
   "execution_count": 206,
   "metadata": {
    "collapsed": true
   },
   "outputs": [],
   "source": [
    "def note_played(notes, power):\n",
    "    \"\"\"\n",
    "    Input: power\n",
    "    Description: Based on the binned power Spectrum, return the most likely note that was played\n",
    "    Output: Selected Note \n",
    "    \"\"\"\n",
    "    n = len(notes)\n",
    "    m = power.size/n\n",
    "    power = np.nansum(power.reshape((m, n)), axis = 0)\n",
    "    mle_idx = np.argmax(power)\n",
    "    idx = power >= (power[mle_idx]/2.)\n",
    "    notes_played = list(np.array(notes)[idx])\n",
    "    \n",
    "    return(notes_played)\n",
    "    "
   ]
  },
  {
   "cell_type": "code",
   "execution_count": 257,
   "metadata": {
    "collapsed": false
   },
   "outputs": [
    {
     "name": "stderr",
     "output_type": "stream",
     "text": [
      "/Users/kevinli/anaconda/lib/python3.5/site-packages/numpy/core/_methods.py:59: RuntimeWarning: Mean of empty slice.\n",
      "  warnings.warn(\"Mean of empty slice.\", RuntimeWarning)\n",
      "/Users/kevinli/anaconda/lib/python3.5/site-packages/ipykernel/__main__.py:5: VisibleDeprecationWarning: using a non-integer number instead of an integer will result in an error in the future\n",
      "/Users/kevinli/anaconda/lib/python3.5/site-packages/ipykernel/__main__.py:9: VisibleDeprecationWarning: using a non-integer number instead of an integer will result in an error in the future\n"
     ]
    },
    {
     "name": "stdout",
     "output_type": "stream",
     "text": [
      "The estimated note that was played:  F4 F5\n"
     ]
    },
    {
     "data": {
      "image/png": "[encoded data removed]",
      "text/plain": [
       "<matplotlib.figure.Figure at 0x11cd01f28>"
      ]
     },
     "metadata": {},
     "output_type": "display_data"
    }
   ],
   "source": [
    "bins, note, Y = freq_to_notes(freq, power)\n",
    "histogram_plot(bins, Y)\n",
    "plt.title(filename)\n",
    "print(\"The estimated note that was played: \" , \" \".join(note_played(note, Y)))"
   ]
  },
  {
   "cell_type": "markdown",
   "metadata": {},
   "source": [
    "#### Complete task 2 by running on all files"
   ]
  },
  {
   "cell_type": "code",
   "execution_count": 241,
   "metadata": {
    "collapsed": false
   },
   "outputs": [
    {
     "data": {
      "text/plain": [
       "'A4_PopOrgan'"
      ]
     },
     "execution_count": 241,
     "metadata": {},
     "output_type": "execute_result"
    }
   ],
   "source": [
    "name = os.path.splitext(os.path.split(\"sound_files/A4_PopOrgan.aif\")[1])[0]\n",
    "name"
   ]
  },
  {
   "cell_type": "code",
   "execution_count": 258,
   "metadata": {
    "collapsed": false
   },
   "outputs": [
    {
     "name": "stderr",
     "output_type": "stream",
     "text": [
      "/Users/kevinli/anaconda/lib/python3.5/site-packages/ipykernel/__main__.py:8: VisibleDeprecationWarning: using a non-integer number instead of an integer will result in an error in the future\n",
      "/Users/kevinli/anaconda/lib/python3.5/site-packages/ipykernel/__main__.py:10: VisibleDeprecationWarning: using a non-integer number instead of an integer will result in an error in the future\n",
      "/Users/kevinli/anaconda/lib/python3.5/site-packages/numpy/core/_methods.py:59: RuntimeWarning: Mean of empty slice.\n",
      "  warnings.warn(\"Mean of empty slice.\", RuntimeWarning)\n",
      "/Users/kevinli/anaconda/lib/python3.5/site-packages/ipykernel/__main__.py:5: VisibleDeprecationWarning: using a non-integer number instead of an integer will result in an error in the future\n",
      "/Users/kevinli/anaconda/lib/python3.5/site-packages/ipykernel/__main__.py:9: VisibleDeprecationWarning: using a non-integer number instead of an integer will result in an error in the future\n"
     ]
    },
    {
     "name": "stdout",
     "output_type": "stream",
     "text": [
      "sound_files/1.aif The estimated note that was played:  C4\n",
      "sound_files/10.aif The estimated note that was played:  C2\n",
      "sound_files/11.aif The estimated note that was played:  E2\n",
      "sound_files/12.aif The estimated note that was played:  C2\n",
      "sound_files/2.aif The estimated note that was played:  F4 F5\n",
      "sound_files/3.aif The estimated note that was played:  E6\n",
      "sound_files/4.aif The estimated note that was played:  C4\n",
      "sound_files/5.aif The estimated note that was played:  G2\n",
      "sound_files/6.aif The estimated note that was played:  G6\n",
      "sound_files/7.aif The estimated note that was played:  A6\n",
      "sound_files/8.aif The estimated note that was played:  F4\n",
      "sound_files/9.aif The estimated note that was played:  G3 G4\n",
      "sound_files/A4_PopOrgan.aif The estimated note that was played:  A4\n",
      "sound_files/C4+A4_PopOrgan.aif The estimated note that was played:  C4\n",
      "sound_files/F3_PopOrgan.aif The estimated note that was played:  F3 F4 C5 F5\n",
      "sound_files/F4_CathedralOrgan.aif The estimated note that was played:  F4 F5\n"
     ]
    }
   ],
   "source": [
    "for filename in sound_files:\n",
    "    #print(filename)\n",
    "    if filename == \"sound_files/.DS_Store\":\n",
    "        continue\n",
    "    # To illustrate what the program is doing, we will save images based on the names\n",
    "    name = os.path.splitext(os.path.split(filename)[1])[0]\n",
    "    #print(name)\n",
    "    data, rate = load(filename)\n",
    "    freq, power = time_to_freq_pow(data, rate)\n",
    "    bins, note, Y = freq_to_notes(freq, power)\n",
    "    histogram_plot(bins, Y)\n",
    "    plt.title(filename)\n",
    "    print(filename, \"The estimated note that was played: \" , \" \".join(note_played(note, Y)))\n",
    "    plt.title(name + str(note_tmp))\n",
    "    plt.savefig(\"note_result/%s.png\" % name)\n",
    "    plt.close('all')\n",
    "    \n",
    "    #print(filename); print(\"The identified file was: %s\",  note_played(bins, Y))"
   ]
  },
  {
   "cell_type": "code",
   "execution_count": null,
   "metadata": {
    "collapsed": true
   },
   "outputs": [],
   "source": []
  },
  {
   "cell_type": "code",
   "execution_count": null,
   "metadata": {
    "collapsed": true
   },
   "outputs": [],
   "source": []
  }
 ],
 "metadata": {
  "anaconda-cloud": {},
  "kernelspec": {
   "display_name": "Python [Root]",
   "language": "python",
   "name": "Python [Root]"
  },
  "language_info": {
   "codemirror_mode": {
    "name": "ipython",
    "version": 3
   },
   "file_extension": ".py",
   "mimetype": "text/x-python",
   "name": "python",
   "nbconvert_exporter": "python",
   "pygments_lexer": "ipython3",
   "version": "3.5.2"
  }
 },
 "nbformat": 4,
 "nbformat_minor": 0
}
